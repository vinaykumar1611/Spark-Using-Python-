{
  "nbformat": 4,
  "nbformat_minor": 0,
  "metadata": {
    "colab": {
      "provenance": []
    },
    "kernelspec": {
      "name": "python3",
      "display_name": "Python 3"
    },
    "language_info": {
      "name": "python"
    }
  },
  "cells": [
    {
      "cell_type": "code",
      "execution_count": 1,
      "metadata": {
        "colab": {
          "base_uri": "https://localhost:8080/"
        },
        "id": "EHXz9ynQJVRX",
        "outputId": "cdd4b348-00a1-442d-ae12-e7f3dcff94ea"
      },
      "outputs": [
        {
          "output_type": "stream",
          "name": "stdout",
          "text": [
            "Looking in indexes: https://pypi.org/simple, https://us-python.pkg.dev/colab-wheels/public/simple/\n",
            "Collecting pyspark\n",
            "  Downloading pyspark-3.3.2.tar.gz (281.4 MB)\n",
            "\u001b[2K     \u001b[90m━━━━━━━━━━━━━━━━━━━━━━━━━━━━━━━━━━━━━━━\u001b[0m \u001b[32m281.4/281.4 MB\u001b[0m \u001b[31m3.8 MB/s\u001b[0m eta \u001b[36m0:00:00\u001b[0m\n",
            "\u001b[?25h  Preparing metadata (setup.py) ... \u001b[?25l\u001b[?25hdone\n",
            "Collecting py4j==0.10.9.5\n",
            "  Downloading py4j-0.10.9.5-py2.py3-none-any.whl (199 kB)\n",
            "\u001b[2K     \u001b[90m━━━━━━━━━━━━━━━━━━━━━━━━━━━━━━━━━━━━━━━\u001b[0m \u001b[32m199.7/199.7 KB\u001b[0m \u001b[31m3.6 MB/s\u001b[0m eta \u001b[36m0:00:00\u001b[0m\n",
            "\u001b[?25hBuilding wheels for collected packages: pyspark\n",
            "  Building wheel for pyspark (setup.py) ... \u001b[?25l\u001b[?25hdone\n",
            "  Created wheel for pyspark: filename=pyspark-3.3.2-py2.py3-none-any.whl size=281824025 sha256=ec5e94a66d365a98a91832b68ca9b6461fb2c58170161df99d66e40b4050d1e5\n",
            "  Stored in directory: /root/.cache/pip/wheels/b1/59/a0/a1a0624b5e865fd389919c1a10f53aec9b12195d6747710baf\n",
            "Successfully built pyspark\n",
            "Installing collected packages: py4j, pyspark\n",
            "Successfully installed py4j-0.10.9.5 pyspark-3.3.2\n"
          ]
        }
      ],
      "source": [
        "# 2 types of user defined fucntions\n",
        "\n",
        "# UDF with standard API\n",
        "\n",
        "# Installing the Pyspark Library\n",
        "!pip install -q findspark\n",
        "!pip install pyspark"
      ]
    },
    {
      "cell_type": "code",
      "source": [
        "# Import Important libraries for creating SparkSession.\n",
        "from pyspark.sql import SparkSession, window\n",
        "from pyspark import SparkConf\n",
        "from pyspark.sql.functions import *\n"
      ],
      "metadata": {
        "id": "MmrKyZ6omlDL"
      },
      "execution_count": 42,
      "outputs": []
    },
    {
      "cell_type": "code",
      "source": [
        "my_conf = SparkConf()\n",
        "my_conf.set(\"spark.app.name\", \"my_udf\")\n",
        "my_conf.set(\"Spark.master\", \"local[*]\") # this is Specific to the node but works in your local machine and also works in platforms like google colab"
      ],
      "metadata": {
        "colab": {
          "base_uri": "https://localhost:8080/"
        },
        "id": "_7J__UNYQJrq",
        "outputId": "937544ea-351e-4945-f5e6-fff09057c1b2"
      },
      "execution_count": 43,
      "outputs": [
        {
          "output_type": "execute_result",
          "data": {
            "text/plain": [
              "<pyspark.conf.SparkConf at 0x7f397cddc430>"
            ]
          },
          "metadata": {},
          "execution_count": 43
        }
      ]
    },
    {
      "cell_type": "code",
      "source": [
        "# Creating a Spark Sesssion in Standard form\n",
        "spark = SparkSession.builder.config(conf=my_conf).getOrCreate()"
      ],
      "metadata": {
        "id": "VoxXv3DjQray"
      },
      "execution_count": 44,
      "outputs": []
    },
    {
      "cell_type": "code",
      "source": [
        "# Loading A File in Spark Standard format.\n",
        "inputDF = spark.read.format(\"csv\").option(\"path\",\"/content/dataset1\").load()"
      ],
      "metadata": {
        "id": "Vvw-u8unRgDy"
      },
      "execution_count": 45,
      "outputs": []
    },
    {
      "cell_type": "code",
      "source": [
        "inputDF.show()"
      ],
      "metadata": {
        "colab": {
          "base_uri": "https://localhost:8080/"
        },
        "id": "EymMK4P4R6sJ",
        "outputId": "3f81df72-b1f3-4569-84d3-1910bbcaea84"
      },
      "execution_count": 46,
      "outputs": [
        {
          "output_type": "stream",
          "name": "stdout",
          "text": [
            "+-------+---+---------+\n",
            "|    _c0|_c1|      _c2|\n",
            "+-------+---+---------+\n",
            "|  sumit| 30|bangalore|\n",
            "|  kapil| 32|hyderabad|\n",
            "|sathish| 16|  chennai|\n",
            "|   ravi| 39|bangalore|\n",
            "| kavita| 12|hyderabad|\n",
            "|  kavya| 19|   mysore|\n",
            "+-------+---+---------+\n",
            "\n"
          ]
        }
      ]
    },
    {
      "cell_type": "code",
      "source": [
        "# So, Now lets attach a schema to our Dataframe.\n",
        "\n",
        "SchemaDF = inputDF.toDF(\"name\", \"age\", \"city\")"
      ],
      "metadata": {
        "id": "RKC8sJ4ZSBXp"
      },
      "execution_count": 47,
      "outputs": []
    },
    {
      "cell_type": "code",
      "source": [
        "SchemaDF.show()"
      ],
      "metadata": {
        "colab": {
          "base_uri": "https://localhost:8080/"
        },
        "id": "5l6M7edzSYKR",
        "outputId": "6d0cafb7-2500-4b40-c5b2-ea59aa1480e4"
      },
      "execution_count": 48,
      "outputs": [
        {
          "output_type": "stream",
          "name": "stdout",
          "text": [
            "+-------+---+---------+\n",
            "|   name|age|     city|\n",
            "+-------+---+---------+\n",
            "|  sumit| 30|bangalore|\n",
            "|  kapil| 32|hyderabad|\n",
            "|sathish| 16|  chennai|\n",
            "|   ravi| 39|bangalore|\n",
            "| kavita| 12|hyderabad|\n",
            "|  kavya| 19|   mysore|\n",
            "+-------+---+---------+\n",
            "\n"
          ]
        }
      ]
    },
    {
      "cell_type": "code",
      "source": [
        "# Printing the Schema\n",
        "SchemaDF.printSchema()"
      ],
      "metadata": {
        "colab": {
          "base_uri": "https://localhost:8080/"
        },
        "id": "1wcxU7NLTF1a",
        "outputId": "a7434cab-69f5-4c08-fe9a-05c87bf5a727"
      },
      "execution_count": 49,
      "outputs": [
        {
          "output_type": "stream",
          "name": "stdout",
          "text": [
            "root\n",
            " |-- name: string (nullable = true)\n",
            " |-- age: string (nullable = true)\n",
            " |-- city: string (nullable = true)\n",
            "\n"
          ]
        }
      ]
    },
    {
      "cell_type": "code",
      "source": [
        "# I want to get who are the adults in my dataset and what is there name and which city they belong. \n",
        "# I am using definfing a user defined fucntions with condition if age > 18 then return Yes or else No. Let's create a UDF\n",
        "# Note: Everytime we create a udf we need to register the UDF.\n",
        "\n",
        "def ageCheck(age):\n",
        "  if age > '18':\n",
        "    return 'Yes'\n",
        "  else:\n",
        "    return 'No'"
      ],
      "metadata": {
        "id": "ALkgwIwoSabp"
      },
      "execution_count": 50,
      "outputs": []
    },
    {
      "cell_type": "code",
      "source": [
        "# Lets Register our UDF in regular Format.\n",
        "# Register takes 3 parameters (Name, function_name, type)\n",
        "spark.udf.register(\"parseAgeCheck\", ageCheck, StringType())"
      ],
      "metadata": {
        "colab": {
          "base_uri": "https://localhost:8080/"
        },
        "id": "wVuPaCJfUeVq",
        "outputId": "b0c65372-5298-469a-a8b5-3e948f04b3a8"
      },
      "execution_count": 51,
      "outputs": [
        {
          "output_type": "execute_result",
          "data": {
            "text/plain": [
              "<function __main__.ageCheck(age)>"
            ]
          },
          "metadata": {},
          "execution_count": 51
        }
      ]
    },
    {
      "cell_type": "code",
      "source": [
        "# Now i need to pass the function to my input and print a new column along the existing colums with yes or No data.\n",
        "\n",
        "functionDF = SchemaDF.withColumn(\"Adult\",expr(\"parseAgeCheck(age)\"))"
      ],
      "metadata": {
        "id": "-ZWR3JV7Te30"
      },
      "execution_count": 54,
      "outputs": []
    },
    {
      "cell_type": "code",
      "source": [
        "# Using grouped Aggregations \n",
        "groupedDF = functionDF.groupBy(\"city\").count()"
      ],
      "metadata": {
        "id": "ewaL9C-Ycq-c"
      },
      "execution_count": 59,
      "outputs": []
    },
    {
      "cell_type": "code",
      "source": [
        "groupedDF.show()"
      ],
      "metadata": {
        "colab": {
          "base_uri": "https://localhost:8080/"
        },
        "id": "yVrxcCg5d6P6",
        "outputId": "e873d617-8079-459e-da65-532372e6c829"
      },
      "execution_count": 60,
      "outputs": [
        {
          "output_type": "stream",
          "name": "stdout",
          "text": [
            "+---------+-----+\n",
            "|     city|count|\n",
            "+---------+-----+\n",
            "|  chennai|    1|\n",
            "|bangalore|    2|\n",
            "|hyderabad|    2|\n",
            "|   mysore|    1|\n",
            "+---------+-----+\n",
            "\n"
          ]
        }
      ]
    },
    {
      "cell_type": "code",
      "source": [
        "functionDF.select(\"name\",\"Adult\", \"city\").show()"
      ],
      "metadata": {
        "colab": {
          "base_uri": "https://localhost:8080/"
        },
        "id": "eEWakoPfgb6a",
        "outputId": "3fd12d13-a939-4c15-ee1b-3eef9617f03d"
      },
      "execution_count": 61,
      "outputs": [
        {
          "output_type": "stream",
          "name": "stdout",
          "text": [
            "+-------+-----+---------+\n",
            "|   name|Adult|     city|\n",
            "+-------+-----+---------+\n",
            "|  sumit|  Yes|bangalore|\n",
            "|  kapil|  Yes|hyderabad|\n",
            "|sathish|   No|  chennai|\n",
            "|   ravi|  Yes|bangalore|\n",
            "| kavita|   No|hyderabad|\n",
            "|  kavya|  Yes|   mysore|\n",
            "+-------+-----+---------+\n",
            "\n"
          ]
        }
      ]
    },
    {
      "cell_type": "code",
      "source": [
        "# Lets also see another type of User defined Function which is SQL Standard\n",
        "# we will use the same fucntion which has created above but with small changes."
      ],
      "metadata": {
        "id": "ouys4-6_guZp"
      },
      "execution_count": 63,
      "outputs": []
    },
    {
      "cell_type": "code",
      "source": [
        "# here the age is of string type i want to make to int type and apply to function\n",
        "SchemaDF.printSchema()"
      ],
      "metadata": {
        "colab": {
          "base_uri": "https://localhost:8080/"
        },
        "id": "rNlhK2MxhGEE",
        "outputId": "d5642aec-d0d3-4eb4-b6fb-d1be38d77a2a"
      },
      "execution_count": 64,
      "outputs": [
        {
          "output_type": "stream",
          "name": "stdout",
          "text": [
            "root\n",
            " |-- name: string (nullable = true)\n",
            " |-- age: string (nullable = true)\n",
            " |-- city: string (nullable = true)\n",
            "\n"
          ]
        }
      ]
    },
    {
      "cell_type": "code",
      "source": [
        "# Changing the type of a column \n",
        "# we can use withcolumn to change the type.\n",
        "Changed_type = SchemaDF.withColumn(\"age\",col(\"age\").cast(\"Integer\"))"
      ],
      "metadata": {
        "id": "IsfRoFiBhSi9"
      },
      "execution_count": 65,
      "outputs": []
    },
    {
      "cell_type": "code",
      "source": [
        "Changed_type.printSchema()"
      ],
      "metadata": {
        "colab": {
          "base_uri": "https://localhost:8080/"
        },
        "id": "tvksKjv8hyJI",
        "outputId": "646e3a24-7150-45d5-d5c6-961e2de9c48d"
      },
      "execution_count": 66,
      "outputs": [
        {
          "output_type": "stream",
          "name": "stdout",
          "text": [
            "root\n",
            " |-- name: string (nullable = true)\n",
            " |-- age: integer (nullable = true)\n",
            " |-- city: string (nullable = true)\n",
            "\n"
          ]
        }
      ]
    },
    {
      "cell_type": "code",
      "source": [
        "#now it's itenger lets write our function and register it based on sql/string expression standard\n",
        "\n",
        "def ageCheck2(age):\n",
        "  if age > 18 :\n",
        "    return 'Y'\n",
        "  else:\n",
        "    return 'N'"
      ],
      "metadata": {
        "id": "ku2lUCBoh1_p"
      },
      "execution_count": 67,
      "outputs": []
    },
    {
      "cell_type": "code",
      "source": [
        "# Registering the function:\n",
        "parseAgeCheck2 = udf(ageCheck2,StringType())"
      ],
      "metadata": {
        "id": "lX4vjRKsiLKQ"
      },
      "execution_count": 69,
      "outputs": []
    },
    {
      "cell_type": "code",
      "source": [
        "Changed_type.withColumn(\"Adult\", parseAgeCheck2(\"age\"))"
      ],
      "metadata": {
        "colab": {
          "base_uri": "https://localhost:8080/"
        },
        "id": "GNQQCR7Zil2p",
        "outputId": "1c55c567-64d5-4a2b-c095-333cc9f317c8"
      },
      "execution_count": 73,
      "outputs": [
        {
          "output_type": "execute_result",
          "data": {
            "text/plain": [
              "DataFrame[name: string, age: int, city: string, Adult: string]"
            ]
          },
          "metadata": {},
          "execution_count": 73
        }
      ]
    },
    {
      "cell_type": "code",
      "source": [
        "Changed_type.show()"
      ],
      "metadata": {
        "colab": {
          "base_uri": "https://localhost:8080/"
        },
        "id": "Riz9LPZUjGTw",
        "outputId": "37c1e5cc-d735-4d88-e44f-23673bff73f9"
      },
      "execution_count": 74,
      "outputs": [
        {
          "output_type": "stream",
          "name": "stdout",
          "text": [
            "+-------+---+---------+\n",
            "|   name|age|     city|\n",
            "+-------+---+---------+\n",
            "|  sumit| 30|bangalore|\n",
            "|  kapil| 32|hyderabad|\n",
            "|sathish| 16|  chennai|\n",
            "|   ravi| 39|bangalore|\n",
            "| kavita| 12|hyderabad|\n",
            "|  kavya| 19|   mysore|\n",
            "+-------+---+---------+\n",
            "\n"
          ]
        }
      ]
    },
    {
      "cell_type": "code",
      "source": [
        "#lets look at another example for making each first letter of name to capital\n",
        "\n",
        "def capitalize(name):\n",
        "  return name[0].upper() + name[1:]\n",
        "  "
      ],
      "metadata": {
        "id": "zBWq5sKzjafo"
      },
      "execution_count": 108,
      "outputs": []
    },
    {
      "cell_type": "code",
      "source": [
        "# Register the function\n",
        "\n",
        "capitalized = udf(capitalize, StringType())"
      ],
      "metadata": {
        "id": "4tbzXucxlO44"
      },
      "execution_count": 111,
      "outputs": []
    },
    {
      "cell_type": "code",
      "source": [
        "Changed_type.select(capitalized(col('name')).alias(\"name\"),col(\"age\"),col(\"city\")).show()"
      ],
      "metadata": {
        "colab": {
          "base_uri": "https://localhost:8080/"
        },
        "id": "1zaZ8z_ElcpP",
        "outputId": "d15b8137-d0de-420d-e85c-7eff12d7342c"
      },
      "execution_count": 101,
      "outputs": [
        {
          "output_type": "stream",
          "name": "stdout",
          "text": [
            "+-------+---+---------+\n",
            "|   name|age|     city|\n",
            "+-------+---+---------+\n",
            "|  Sumit| 30|bangalore|\n",
            "|  Kapil| 32|hyderabad|\n",
            "|Sathish| 16|  chennai|\n",
            "|   Ravi| 39|bangalore|\n",
            "| Kavita| 12|hyderabad|\n",
            "|  Kavya| 19|   mysore|\n",
            "+-------+---+---------+\n",
            "\n"
          ]
        }
      ]
    },
    {
      "cell_type": "code",
      "source": [
        "#you can also achieve the same thing with Spark Sql just by converting the dataframe to view using createOrReplaceTempView()\n",
        "\n",
        "Changed_type.createOrReplaceTempView(\"Person\")"
      ],
      "metadata": {
        "id": "8zPOAmrVmcbn"
      },
      "execution_count": 102,
      "outputs": []
    },
    {
      "cell_type": "code",
      "source": [
        "# Simple Just like That\n",
        "spark.sql(\"select name, age, city from Person\").show()"
      ],
      "metadata": {
        "colab": {
          "base_uri": "https://localhost:8080/"
        },
        "id": "FStPFaY2pZdu",
        "outputId": "36b3ddbb-ba1f-4688-afc0-02b008a50865"
      },
      "execution_count": 113,
      "outputs": [
        {
          "output_type": "stream",
          "name": "stdout",
          "text": [
            "+-------+---+---------+\n",
            "|   name|age|     city|\n",
            "+-------+---+---------+\n",
            "|  sumit| 30|bangalore|\n",
            "|  kapil| 32|hyderabad|\n",
            "|sathish| 16|  chennai|\n",
            "|   ravi| 39|bangalore|\n",
            "| kavita| 12|hyderabad|\n",
            "|  kavya| 19|   mysore|\n",
            "+-------+---+---------+\n",
            "\n"
          ]
        }
      ]
    }
  ]
}