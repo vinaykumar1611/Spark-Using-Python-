{
  "nbformat": 4,
  "nbformat_minor": 0,
  "metadata": {
    "colab": {
      "provenance": []
    },
    "kernelspec": {
      "name": "python3",
      "display_name": "Python 3"
    },
    "language_info": {
      "name": "python"
    }
  },
  "cells": [
    {
      "cell_type": "code",
      "execution_count": 1,
      "metadata": {
        "colab": {
          "base_uri": "https://localhost:8080/"
        },
        "id": "X6T6kem7mnxn",
        "outputId": "0d5b51a7-b84c-4590-a016-7efb9b2851e4"
      },
      "outputs": [
        {
          "output_type": "stream",
          "name": "stdout",
          "text": [
            "Looking in indexes: https://pypi.org/simple, https://us-python.pkg.dev/colab-wheels/public/simple/\n",
            "Collecting pyspark\n",
            "  Downloading pyspark-3.3.2.tar.gz (281.4 MB)\n",
            "\u001b[2K     \u001b[90m━━━━━━━━━━━━━━━━━━━━━━━━━━━━━━━━━━━━━━━\u001b[0m \u001b[32m281.4/281.4 MB\u001b[0m \u001b[31m4.6 MB/s\u001b[0m eta \u001b[36m0:00:00\u001b[0m\n",
            "\u001b[?25h  Preparing metadata (setup.py) ... \u001b[?25l\u001b[?25hdone\n",
            "Collecting py4j==0.10.9.5\n",
            "  Downloading py4j-0.10.9.5-py2.py3-none-any.whl (199 kB)\n",
            "\u001b[2K     \u001b[90m━━━━━━━━━━━━━━━━━━━━━━━━━━━━━━━━━━━━━━━\u001b[0m \u001b[32m199.7/199.7 KB\u001b[0m \u001b[31m9.6 MB/s\u001b[0m eta \u001b[36m0:00:00\u001b[0m\n",
            "\u001b[?25hBuilding wheels for collected packages: pyspark\n",
            "  Building wheel for pyspark (setup.py) ... \u001b[?25l\u001b[?25hdone\n",
            "  Created wheel for pyspark: filename=pyspark-3.3.2-py2.py3-none-any.whl size=281824025 sha256=373b1b65dc2e620be3f39a490598da0e1bbc7a8bd3e520ac249a54187bd58d52\n",
            "  Stored in directory: /root/.cache/pip/wheels/b1/59/a0/a1a0624b5e865fd389919c1a10f53aec9b12195d6747710baf\n",
            "Successfully built pyspark\n",
            "Installing collected packages: py4j, pyspark\n",
            "Successfully installed py4j-0.10.9.5 pyspark-3.3.2\n"
          ]
        }
      ],
      "source": [
        "!pip install -q findspark\n",
        "!pip install pyspark"
      ]
    },
    {
      "cell_type": "code",
      "source": [
        "from pyspark.sql import SparkSession\n",
        "from pyspark.sql.functions import *\n",
        "from pyspark import SparkContext, SparkConf\n",
        "from pyspark.sql.types import *"
      ],
      "metadata": {
        "id": "UUs9j4TVmyPp"
      },
      "execution_count": 2,
      "outputs": []
    },
    {
      "cell_type": "code",
      "source": [
        "my_conf = SparkConf()\n",
        "my_conf.set(\"spark.app.name\", \"Aggregations\")\n",
        "my_conf.set(\"Spark.master\", \"local[*]\")"
      ],
      "metadata": {
        "colab": {
          "base_uri": "https://localhost:8080/"
        },
        "id": "wdRxczwenMjP",
        "outputId": "e27cb402-8e8a-4220-8243-8f35f8c98b3b"
      },
      "execution_count": 3,
      "outputs": [
        {
          "output_type": "execute_result",
          "data": {
            "text/plain": [
              "<pyspark.conf.SparkConf at 0x7f69550fc820>"
            ]
          },
          "metadata": {},
          "execution_count": 3
        }
      ]
    },
    {
      "cell_type": "code",
      "source": [
        "#Creating SparkSession\n",
        "spark = SparkSession.builder.config(conf=my_conf).getOrCreate()"
      ],
      "metadata": {
        "id": "Pw1Hn1a-nPix"
      },
      "execution_count": 4,
      "outputs": []
    },
    {
      "cell_type": "code",
      "source": [
        "OrdersDF = spark.read.csv(\"/content/order_data.csv\",header=True,inferSchema=True)"
      ],
      "metadata": {
        "id": "-TlT5y3hnTUO"
      },
      "execution_count": 5,
      "outputs": []
    },
    {
      "cell_type": "code",
      "source": [
        "OrdersDF.printSchema()\n",
        "OrdersDF.show()"
      ],
      "metadata": {
        "colab": {
          "base_uri": "https://localhost:8080/"
        },
        "id": "xfAZFH7cnf5v",
        "outputId": "19afa9ef-954f-42cd-8d9e-3fbbba046679"
      },
      "execution_count": 8,
      "outputs": [
        {
          "output_type": "stream",
          "name": "stdout",
          "text": [
            "root\n",
            " |-- InvoiceNo: string (nullable = true)\n",
            " |-- StockCode: string (nullable = true)\n",
            " |-- Description: string (nullable = true)\n",
            " |-- Quantity: integer (nullable = true)\n",
            " |-- InvoiceDate: string (nullable = true)\n",
            " |-- UnitPrice: double (nullable = true)\n",
            " |-- CustomerID: integer (nullable = true)\n",
            " |-- Country: string (nullable = true)\n",
            "\n",
            "+---------+---------+--------------------+--------+---------------+---------+----------+--------------+\n",
            "|InvoiceNo|StockCode|         Description|Quantity|    InvoiceDate|UnitPrice|CustomerID|       Country|\n",
            "+---------+---------+--------------------+--------+---------------+---------+----------+--------------+\n",
            "|   536378|     null|PACK OF 60 DINOSA...|      24|01-12-2010 9.37|     0.55|     14688|United Kingdom|\n",
            "|   536378|     null|PACK OF 60 PINK P...|      24|01-12-2010 9.37|     0.55|     14688|United Kingdom|\n",
            "|   536378|    84991|60 TEATIME FAIRY ...|      24|01-12-2010 9.37|     0.55|     14688|United Kingdom|\n",
            "|   536378|   84519A|TOMATO CHARLIE+LO...|       6|01-12-2010 9.37|     2.95|     14688|United Kingdom|\n",
            "|   536378|   85183B|CHARLIE & LOLA WA...|      48|01-12-2010 9.37|     1.25|     14688|United Kingdom|\n",
            "|   536378|   85071B|RED CHARLIE+LOLA ...|      96|01-12-2010 9.37|     0.38|     14688|United Kingdom|\n",
            "|   536378|    21931|JUMBO STORAGE BAG...|      10|01-12-2010 9.37|     1.95|     14688|United Kingdom|\n",
            "|   536378|    21929|JUMBO BAG PINK VI...|      10|01-12-2010 9.37|     1.95|     14688|United Kingdom|\n",
            "|   536380|    22961|JAM MAKING SET PR...|      24|01-12-2010 9.41|     1.45|     17809|United Kingdom|\n",
            "|   536381|    22139|RETROSPOT TEA SET...|      23|01-12-2010 9.41|     4.25|     15311|United Kingdom|\n",
            "|   536381|    84854| GIRLY PINK TOOL SET|       5|01-12-2010 9.41|     4.95|     15311|United Kingdom|\n",
            "|   536381|    22411|JUMBO SHOPPER VIN...|      10|01-12-2010 9.41|     1.95|     15311|United Kingdom|\n",
            "|   536381|    82567|AIRLINE LOUNGE,ME...|       2|01-12-2010 9.41|      2.1|     15311|United Kingdom|\n",
            "|   536381|    21672|WHITE SPOT RED CE...|       6|01-12-2010 9.41|     1.25|     15311|United Kingdom|\n",
            "|   536381|    22774|RED DRAWER KNOB A...|      24|01-12-2010 9.41|     1.25|     15311|United Kingdom|\n",
            "|   536381|    22771|CLEAR DRAWER KNOB...|      24|01-12-2010 9.41|     1.25|     15311|United Kingdom|\n",
            "|   536381|    71270|     PHOTO CLIP LINE|       1|01-12-2010 9.41|     1.25|     15311|United Kingdom|\n",
            "|   536381|    22262|FELT EGG COSY CHI...|       1|01-12-2010 9.41|     0.85|     15311|United Kingdom|\n",
            "|   536381|    22637|PIGGY BANK RETROS...|       1|01-12-2010 9.41|     2.55|     15311|United Kingdom|\n",
            "|   536381|    21934|  SKULL SHOULDER BAG|      10|01-12-2010 9.41|     1.65|     15311|United Kingdom|\n",
            "+---------+---------+--------------------+--------+---------------+---------+----------+--------------+\n",
            "only showing top 20 rows\n",
            "\n"
          ]
        }
      ]
    },
    {
      "cell_type": "code",
      "source": [
        "# Now we got our data in the required form lets perform some simple aggregations"
      ],
      "metadata": {
        "id": "N3sWRVFinldn"
      },
      "execution_count": 7,
      "outputs": []
    },
    {
      "cell_type": "code",
      "source": [
        "# I want to get the totals_of something like sum(Quantity), Avg(UnitPrice) and total_number_of unique rows\n",
        "\n",
        "# we can achieve this using different approaches like using column object, column String, SQL\n",
        "\n"
      ],
      "metadata": {
        "id": "86D7qWS0nvG-"
      },
      "execution_count": 9,
      "outputs": []
    },
    {
      "cell_type": "code",
      "source": [
        "# Using Column Object"
      ],
      "metadata": {
        "id": "08msa8TppLF3"
      },
      "execution_count": 16,
      "outputs": []
    },
    {
      "cell_type": "code",
      "source": [
        "OrdersDF.select(count(\"*\").alias(\"Total_count\"), sum(\"Quantity\").\n",
        "                alias(\"Total_Quantity\"),avg(\"UnitPrice\").alias(\"Avg_UnitPrice\"),\n",
        "                countDistinct(\"InvoiceNo\").alias(\"CountDistinct\")).show()"
      ],
      "metadata": {
        "colab": {
          "base_uri": "https://localhost:8080/"
        },
        "id": "29dYa0H_pNYl",
        "outputId": "6e4299b1-996e-4842-a1ea-4c0634742990"
      },
      "execution_count": 17,
      "outputs": [
        {
          "output_type": "stream",
          "name": "stdout",
          "text": [
            "+-----------+--------------+----------------+-------------+\n",
            "|Total_count|Total_Quantity|   Avg_UnitPrice|CountDistinct|\n",
            "+-----------+--------------+----------------+-------------+\n",
            "|     541782|       5175855|4.61156532332191|        25858|\n",
            "+-----------+--------------+----------------+-------------+\n",
            "\n"
          ]
        }
      ]
    },
    {
      "cell_type": "code",
      "source": [
        "# Using COlumn String"
      ],
      "metadata": {
        "id": "mJw_Cq2LqNG1"
      },
      "execution_count": 18,
      "outputs": []
    },
    {
      "cell_type": "code",
      "source": [
        "OrdersDF.selectExpr(\"count(*) as RowCount\",\"sum(Quantity) as TotalQuantity\",\n",
        "                    \"avg(UnitPrice) as AvgPrice\",\"count(Distinct(InvoiceNo)) as CountDistinct\").show()"
      ],
      "metadata": {
        "colab": {
          "base_uri": "https://localhost:8080/"
        },
        "id": "F7k8fw4ZrakF",
        "outputId": "357287cc-8635-44dc-c5eb-527be6e670e5"
      },
      "execution_count": 25,
      "outputs": [
        {
          "output_type": "stream",
          "name": "stdout",
          "text": [
            "+--------+-------------+----------------+-------------+\n",
            "|RowCount|TotalQuantity|        AvgPrice|CountDistinct|\n",
            "+--------+-------------+----------------+-------------+\n",
            "|  541782|      5175855|4.61156532332191|        25858|\n",
            "+--------+-------------+----------------+-------------+\n",
            "\n"
          ]
        }
      ]
    },
    {
      "cell_type": "code",
      "source": [
        "# USing SQL\n",
        "# To DO it in sql we need to convert the Dataframe into a table."
      ],
      "metadata": {
        "id": "vCJgmwn9ro7t"
      },
      "execution_count": 22,
      "outputs": []
    },
    {
      "cell_type": "code",
      "source": [
        "OrdersDF.createOrReplaceTempView(\"Orders\")"
      ],
      "metadata": {
        "id": "MhcyXBfFrz3M"
      },
      "execution_count": 23,
      "outputs": []
    },
    {
      "cell_type": "code",
      "source": [
        "spark.sql(\"select count(*) as rowcount,sum(Quantity) as Total_Quantity,avg(UnitPrice) as AvgPrice, count(distinct(InvoiceNo)) as CountDistinct from Orders\").show()"
      ],
      "metadata": {
        "colab": {
          "base_uri": "https://localhost:8080/"
        },
        "id": "XqWn8VKUsC1V",
        "outputId": "04de8d64-ee2b-406a-af4d-606678d4ceca"
      },
      "execution_count": 31,
      "outputs": [
        {
          "output_type": "stream",
          "name": "stdout",
          "text": [
            "+--------+--------------+----------------+-------------+\n",
            "|rowcount|Total_Quantity|        AvgPrice|CountDistinct|\n",
            "+--------+--------------+----------------+-------------+\n",
            "|  541782|       5175855|4.61156532332191|        25858|\n",
            "+--------+--------------+----------------+-------------+\n",
            "\n"
          ]
        }
      ]
    },
    {
      "cell_type": "code",
      "source": [
        "# Now let's Do another one.\n",
        "# I want to find total quantity and value of invoice ( qunatity * unitprice) of each country and invoice.\n",
        "#Let's try to achieve this using 3 methods as we did above."
      ],
      "metadata": {
        "id": "vB1cBu6IyTaq"
      },
      "execution_count": 32,
      "outputs": []
    },
    {
      "cell_type": "code",
      "source": [
        "# COlumn Object String Method with GroupBy because we need in our Question"
      ],
      "metadata": {
        "id": "rk3hO15CzzvR"
      },
      "execution_count": 33,
      "outputs": []
    },
    {
      "cell_type": "code",
      "source": [
        "GroupedDF = OrdersDF.groupBy(\"Country\",\"InvoiceNo\").\\\n",
        "agg(sum(\"Quantity\").alias(\"TotalQuantity\"),sum(\"Quantity * UnitPrice\").alias(\"InvoiceValue\"))"
      ],
      "metadata": {
        "colab": {
          "base_uri": "https://localhost:8080/",
          "height": 397
        },
        "id": "wwhj3aVE0kOY",
        "outputId": "13ddd08d-fd50-4c18-a84a-19a393f316dd"
      },
      "execution_count": 36,
      "outputs": [
        {
          "output_type": "error",
          "ename": "AnalysisException",
          "evalue": "ignored",
          "traceback": [
            "\u001b[0;31m---------------------------------------------------------------------------\u001b[0m",
            "\u001b[0;31mAnalysisException\u001b[0m                         Traceback (most recent call last)",
            "\u001b[0;32m<ipython-input-36-3887b92c2ae4>\u001b[0m in \u001b[0;36m<module>\u001b[0;34m\u001b[0m\n\u001b[0;32m----> 1\u001b[0;31m \u001b[0mGroupedDF\u001b[0m \u001b[0;34m=\u001b[0m \u001b[0mOrdersDF\u001b[0m\u001b[0;34m.\u001b[0m\u001b[0mgroupBy\u001b[0m\u001b[0;34m(\u001b[0m\u001b[0;34m\"Country\"\u001b[0m\u001b[0;34m,\u001b[0m\u001b[0;34m\"InvoiceNo\"\u001b[0m\u001b[0;34m)\u001b[0m\u001b[0;34m.\u001b[0m\u001b[0;31m\\\u001b[0m\u001b[0;34m\u001b[0m\u001b[0;34m\u001b[0m\u001b[0m\n\u001b[0m\u001b[1;32m      2\u001b[0m \u001b[0magg\u001b[0m\u001b[0;34m(\u001b[0m\u001b[0msum\u001b[0m\u001b[0;34m(\u001b[0m\u001b[0;34m\"Quantity\"\u001b[0m\u001b[0;34m)\u001b[0m\u001b[0;34m.\u001b[0m\u001b[0malias\u001b[0m\u001b[0;34m(\u001b[0m\u001b[0;34m\"TotalQuantity\"\u001b[0m\u001b[0;34m)\u001b[0m\u001b[0;34m,\u001b[0m\u001b[0msum\u001b[0m\u001b[0;34m(\u001b[0m\u001b[0;34m\"Quantity * UnitPrice\"\u001b[0m\u001b[0;34m)\u001b[0m\u001b[0;34m.\u001b[0m\u001b[0malias\u001b[0m\u001b[0;34m(\u001b[0m\u001b[0;34m\"InvoiceValue\"\u001b[0m\u001b[0;34m)\u001b[0m\u001b[0;34m)\u001b[0m\u001b[0;34m\u001b[0m\u001b[0;34m\u001b[0m\u001b[0m\n",
            "\u001b[0;32m/usr/local/lib/python3.8/dist-packages/pyspark/sql/group.py\u001b[0m in \u001b[0;36magg\u001b[0;34m(self, *exprs)\u001b[0m\n\u001b[1;32m    135\u001b[0m             \u001b[0;32massert\u001b[0m \u001b[0mall\u001b[0m\u001b[0;34m(\u001b[0m\u001b[0misinstance\u001b[0m\u001b[0;34m(\u001b[0m\u001b[0mc\u001b[0m\u001b[0;34m,\u001b[0m \u001b[0mColumn\u001b[0m\u001b[0;34m)\u001b[0m \u001b[0;32mfor\u001b[0m \u001b[0mc\u001b[0m \u001b[0;32min\u001b[0m \u001b[0mexprs\u001b[0m\u001b[0;34m)\u001b[0m\u001b[0;34m,\u001b[0m \u001b[0;34m\"all exprs should be Column\"\u001b[0m\u001b[0;34m\u001b[0m\u001b[0;34m\u001b[0m\u001b[0m\n\u001b[1;32m    136\u001b[0m             \u001b[0mexprs\u001b[0m \u001b[0;34m=\u001b[0m \u001b[0mcast\u001b[0m\u001b[0;34m(\u001b[0m\u001b[0mTuple\u001b[0m\u001b[0;34m[\u001b[0m\u001b[0mColumn\u001b[0m\u001b[0;34m,\u001b[0m \u001b[0;34m...\u001b[0m\u001b[0;34m]\u001b[0m\u001b[0;34m,\u001b[0m \u001b[0mexprs\u001b[0m\u001b[0;34m)\u001b[0m\u001b[0;34m\u001b[0m\u001b[0;34m\u001b[0m\u001b[0m\n\u001b[0;32m--> 137\u001b[0;31m             \u001b[0mjdf\u001b[0m \u001b[0;34m=\u001b[0m \u001b[0mself\u001b[0m\u001b[0;34m.\u001b[0m\u001b[0m_jgd\u001b[0m\u001b[0;34m.\u001b[0m\u001b[0magg\u001b[0m\u001b[0;34m(\u001b[0m\u001b[0mexprs\u001b[0m\u001b[0;34m[\u001b[0m\u001b[0;36m0\u001b[0m\u001b[0;34m]\u001b[0m\u001b[0;34m.\u001b[0m\u001b[0m_jc\u001b[0m\u001b[0;34m,\u001b[0m \u001b[0m_to_seq\u001b[0m\u001b[0;34m(\u001b[0m\u001b[0mself\u001b[0m\u001b[0;34m.\u001b[0m\u001b[0msession\u001b[0m\u001b[0;34m.\u001b[0m\u001b[0m_sc\u001b[0m\u001b[0;34m,\u001b[0m \u001b[0;34m[\u001b[0m\u001b[0mc\u001b[0m\u001b[0;34m.\u001b[0m\u001b[0m_jc\u001b[0m \u001b[0;32mfor\u001b[0m \u001b[0mc\u001b[0m \u001b[0;32min\u001b[0m \u001b[0mexprs\u001b[0m\u001b[0;34m[\u001b[0m\u001b[0;36m1\u001b[0m\u001b[0;34m:\u001b[0m\u001b[0;34m]\u001b[0m\u001b[0;34m]\u001b[0m\u001b[0;34m)\u001b[0m\u001b[0;34m)\u001b[0m\u001b[0;34m\u001b[0m\u001b[0;34m\u001b[0m\u001b[0m\n\u001b[0m\u001b[1;32m    138\u001b[0m         \u001b[0;32mreturn\u001b[0m \u001b[0mDataFrame\u001b[0m\u001b[0;34m(\u001b[0m\u001b[0mjdf\u001b[0m\u001b[0;34m,\u001b[0m \u001b[0mself\u001b[0m\u001b[0;34m.\u001b[0m\u001b[0msession\u001b[0m\u001b[0;34m)\u001b[0m\u001b[0;34m\u001b[0m\u001b[0;34m\u001b[0m\u001b[0m\n\u001b[1;32m    139\u001b[0m \u001b[0;34m\u001b[0m\u001b[0m\n",
            "\u001b[0;32m/usr/local/lib/python3.8/dist-packages/py4j/java_gateway.py\u001b[0m in \u001b[0;36m__call__\u001b[0;34m(self, *args)\u001b[0m\n\u001b[1;32m   1319\u001b[0m \u001b[0;34m\u001b[0m\u001b[0m\n\u001b[1;32m   1320\u001b[0m         \u001b[0manswer\u001b[0m \u001b[0;34m=\u001b[0m \u001b[0mself\u001b[0m\u001b[0;34m.\u001b[0m\u001b[0mgateway_client\u001b[0m\u001b[0;34m.\u001b[0m\u001b[0msend_command\u001b[0m\u001b[0;34m(\u001b[0m\u001b[0mcommand\u001b[0m\u001b[0;34m)\u001b[0m\u001b[0;34m\u001b[0m\u001b[0;34m\u001b[0m\u001b[0m\n\u001b[0;32m-> 1321\u001b[0;31m         return_value = get_return_value(\n\u001b[0m\u001b[1;32m   1322\u001b[0m             answer, self.gateway_client, self.target_id, self.name)\n\u001b[1;32m   1323\u001b[0m \u001b[0;34m\u001b[0m\u001b[0m\n",
            "\u001b[0;32m/usr/local/lib/python3.8/dist-packages/pyspark/sql/utils.py\u001b[0m in \u001b[0;36mdeco\u001b[0;34m(*a, **kw)\u001b[0m\n\u001b[1;32m    194\u001b[0m                 \u001b[0;31m# Hide where the exception came from that shows a non-Pythonic\u001b[0m\u001b[0;34m\u001b[0m\u001b[0;34m\u001b[0m\u001b[0;34m\u001b[0m\u001b[0m\n\u001b[1;32m    195\u001b[0m                 \u001b[0;31m# JVM exception message.\u001b[0m\u001b[0;34m\u001b[0m\u001b[0;34m\u001b[0m\u001b[0;34m\u001b[0m\u001b[0m\n\u001b[0;32m--> 196\u001b[0;31m                 \u001b[0;32mraise\u001b[0m \u001b[0mconverted\u001b[0m \u001b[0;32mfrom\u001b[0m \u001b[0;32mNone\u001b[0m\u001b[0;34m\u001b[0m\u001b[0;34m\u001b[0m\u001b[0m\n\u001b[0m\u001b[1;32m    197\u001b[0m             \u001b[0;32melse\u001b[0m\u001b[0;34m:\u001b[0m\u001b[0;34m\u001b[0m\u001b[0;34m\u001b[0m\u001b[0m\n\u001b[1;32m    198\u001b[0m                 \u001b[0;32mraise\u001b[0m\u001b[0;34m\u001b[0m\u001b[0;34m\u001b[0m\u001b[0m\n",
            "\u001b[0;31mAnalysisException\u001b[0m: Column '`Quantity * UnitPrice`' does not exist. Did you mean one of the following? [UnitPrice, Quantity, Country, CustomerID, Description, InvoiceDate, InvoiceNo, StockCode];\n'Aggregate [Country#24, InvoiceNo#17], [Country#24, InvoiceNo#17, sum(Quantity#20) AS TotalQuantity#732L, sum('Quantity * UnitPrice) AS InvoiceValue#734]\n+- Relation [InvoiceNo#17,StockCode#18,Description#19,Quantity#20,InvoiceDate#21,UnitPrice#22,CustomerID#23,Country#24] csv\n"
          ]
        }
      ]
    },
    {
      "cell_type": "code",
      "source": [
        "# To solve the above Error we need to add expr to the Quantity * UnitPrice\n",
        "GroupedDF = OrdersDF.groupBy(\"Country\",\"InvoiceNo\").\\\n",
        "agg(sum(\"Quantity\").alias(\"TotalQuantity\"),sum(expr(\"Quantity * UnitPrice\")).alias(\"InvoiceValue\"))"
      ],
      "metadata": {
        "id": "WZykZK_P1bwW"
      },
      "execution_count": 37,
      "outputs": []
    },
    {
      "cell_type": "code",
      "source": [
        "GroupedDF.show()"
      ],
      "metadata": {
        "colab": {
          "base_uri": "https://localhost:8080/"
        },
        "id": "PjUjdEXe1EbP",
        "outputId": "f7412a1b-c616-4d3d-ca6c-a6b7326f8f7b"
      },
      "execution_count": 38,
      "outputs": [
        {
          "output_type": "stream",
          "name": "stdout",
          "text": [
            "+--------------+---------+-------------+------------------+\n",
            "|       Country|InvoiceNo|TotalQuantity|      InvoiceValue|\n",
            "+--------------+---------+-------------+------------------+\n",
            "|United Kingdom|   536446|          329|            440.89|\n",
            "|United Kingdom|   536508|          216|            155.52|\n",
            "|United Kingdom|   537811|           74|            268.86|\n",
            "|United Kingdom|   538895|          370|            247.38|\n",
            "|United Kingdom|   540453|          341|302.44999999999993|\n",
            "|United Kingdom|   541291|          217|305.81000000000006|\n",
            "|United Kingdom|   542551|           -1|               0.0|\n",
            "|United Kingdom|   542576|           -1|               0.0|\n",
            "|United Kingdom|   542628|            9|            132.35|\n",
            "|United Kingdom|   542886|          199| 320.5099999999998|\n",
            "|United Kingdom|   542907|           75|            313.85|\n",
            "|United Kingdom|   543131|          134|             164.1|\n",
            "|United Kingdom|   543189|          102|            153.94|\n",
            "|United Kingdom|   543265|           -4|               0.0|\n",
            "|        Cyprus|   544574|          173|            320.69|\n",
            "|United Kingdom|   545077|           24|             10.08|\n",
            "|United Kingdom|   545300|          116|            323.16|\n",
            "|United Kingdom|   545347|           72| 76.32000000000001|\n",
            "|United Kingdom|   545418|           10|              85.0|\n",
            "|United Kingdom|   545897|          577|1762.2200000000018|\n",
            "+--------------+---------+-------------+------------------+\n",
            "only showing top 20 rows\n",
            "\n"
          ]
        }
      ]
    },
    {
      "cell_type": "code",
      "source": [
        "# Now lets Do it Using Column String Expression\n",
        "GroupedDF2 = OrdersDF.groupBy(\"Country\",\"InvoiceNo\").\\\n",
        "agg(expr(\"sum(Quantity) as TotalQunatity\"),expr(\"sum(Quantity * UnitPrice) as InvoiceValue\"))"
      ],
      "metadata": {
        "id": "ybgspTJD1GIu"
      },
      "execution_count": 41,
      "outputs": []
    },
    {
      "cell_type": "code",
      "source": [
        "GroupedDF2.show()"
      ],
      "metadata": {
        "colab": {
          "base_uri": "https://localhost:8080/"
        },
        "id": "dxaVgsED_DyU",
        "outputId": "f1042024-a924-4c29-c37b-b3a12937aca8"
      },
      "execution_count": 42,
      "outputs": [
        {
          "output_type": "stream",
          "name": "stdout",
          "text": [
            "+--------------+---------+-------------+------------------+\n",
            "|       Country|InvoiceNo|TotalQunatity|      InvoiceValue|\n",
            "+--------------+---------+-------------+------------------+\n",
            "|United Kingdom|   536446|          329|            440.89|\n",
            "|United Kingdom|   536508|          216|            155.52|\n",
            "|United Kingdom|   537811|           74|            268.86|\n",
            "|United Kingdom|   538895|          370|            247.38|\n",
            "|United Kingdom|   540453|          341|302.44999999999993|\n",
            "|United Kingdom|   541291|          217|305.81000000000006|\n",
            "|United Kingdom|   542551|           -1|               0.0|\n",
            "|United Kingdom|   542576|           -1|               0.0|\n",
            "|United Kingdom|   542628|            9|            132.35|\n",
            "|United Kingdom|   542886|          199| 320.5099999999998|\n",
            "|United Kingdom|   542907|           75|            313.85|\n",
            "|United Kingdom|   543131|          134|             164.1|\n",
            "|United Kingdom|   543189|          102|            153.94|\n",
            "|United Kingdom|   543265|           -4|               0.0|\n",
            "|        Cyprus|   544574|          173|            320.69|\n",
            "|United Kingdom|   545077|           24|             10.08|\n",
            "|United Kingdom|   545300|          116|            323.16|\n",
            "|United Kingdom|   545347|           72| 76.32000000000001|\n",
            "|United Kingdom|   545418|           10|              85.0|\n",
            "|United Kingdom|   545897|          577|1762.2200000000018|\n",
            "+--------------+---------+-------------+------------------+\n",
            "only showing top 20 rows\n",
            "\n"
          ]
        }
      ]
    },
    {
      "cell_type": "code",
      "source": [
        "# USing SQL"
      ],
      "metadata": {
        "id": "2w9NubqW_G0K"
      },
      "execution_count": 43,
      "outputs": []
    },
    {
      "cell_type": "code",
      "source": [
        "OrdersDF.createOrReplaceTempView(\"Sales\")"
      ],
      "metadata": {
        "id": "GAHG3cEvD8xR"
      },
      "execution_count": 51,
      "outputs": []
    },
    {
      "cell_type": "code",
      "source": [
        "spark.sql(\"select * from sales\").show()"
      ],
      "metadata": {
        "colab": {
          "base_uri": "https://localhost:8080/"
        },
        "id": "cjwXU_a_IpVN",
        "outputId": "bcea8847-ad4f-43ad-a163-76ca90c83c25"
      },
      "execution_count": 52,
      "outputs": [
        {
          "output_type": "stream",
          "name": "stdout",
          "text": [
            "+---------+---------+--------------------+--------+---------------+---------+----------+--------------+\n",
            "|InvoiceNo|StockCode|         Description|Quantity|    InvoiceDate|UnitPrice|CustomerID|       Country|\n",
            "+---------+---------+--------------------+--------+---------------+---------+----------+--------------+\n",
            "|   536378|     null|PACK OF 60 DINOSA...|      24|01-12-2010 9.37|     0.55|     14688|United Kingdom|\n",
            "|   536378|     null|PACK OF 60 PINK P...|      24|01-12-2010 9.37|     0.55|     14688|United Kingdom|\n",
            "|   536378|    84991|60 TEATIME FAIRY ...|      24|01-12-2010 9.37|     0.55|     14688|United Kingdom|\n",
            "|   536378|   84519A|TOMATO CHARLIE+LO...|       6|01-12-2010 9.37|     2.95|     14688|United Kingdom|\n",
            "|   536378|   85183B|CHARLIE & LOLA WA...|      48|01-12-2010 9.37|     1.25|     14688|United Kingdom|\n",
            "|   536378|   85071B|RED CHARLIE+LOLA ...|      96|01-12-2010 9.37|     0.38|     14688|United Kingdom|\n",
            "|   536378|    21931|JUMBO STORAGE BAG...|      10|01-12-2010 9.37|     1.95|     14688|United Kingdom|\n",
            "|   536378|    21929|JUMBO BAG PINK VI...|      10|01-12-2010 9.37|     1.95|     14688|United Kingdom|\n",
            "|   536380|    22961|JAM MAKING SET PR...|      24|01-12-2010 9.41|     1.45|     17809|United Kingdom|\n",
            "|   536381|    22139|RETROSPOT TEA SET...|      23|01-12-2010 9.41|     4.25|     15311|United Kingdom|\n",
            "|   536381|    84854| GIRLY PINK TOOL SET|       5|01-12-2010 9.41|     4.95|     15311|United Kingdom|\n",
            "|   536381|    22411|JUMBO SHOPPER VIN...|      10|01-12-2010 9.41|     1.95|     15311|United Kingdom|\n",
            "|   536381|    82567|AIRLINE LOUNGE,ME...|       2|01-12-2010 9.41|      2.1|     15311|United Kingdom|\n",
            "|   536381|    21672|WHITE SPOT RED CE...|       6|01-12-2010 9.41|     1.25|     15311|United Kingdom|\n",
            "|   536381|    22774|RED DRAWER KNOB A...|      24|01-12-2010 9.41|     1.25|     15311|United Kingdom|\n",
            "|   536381|    22771|CLEAR DRAWER KNOB...|      24|01-12-2010 9.41|     1.25|     15311|United Kingdom|\n",
            "|   536381|    71270|     PHOTO CLIP LINE|       1|01-12-2010 9.41|     1.25|     15311|United Kingdom|\n",
            "|   536381|    22262|FELT EGG COSY CHI...|       1|01-12-2010 9.41|     0.85|     15311|United Kingdom|\n",
            "|   536381|    22637|PIGGY BANK RETROS...|       1|01-12-2010 9.41|     2.55|     15311|United Kingdom|\n",
            "|   536381|    21934|  SKULL SHOULDER BAG|      10|01-12-2010 9.41|     1.65|     15311|United Kingdom|\n",
            "+---------+---------+--------------------+--------+---------------+---------+----------+--------------+\n",
            "only showing top 20 rows\n",
            "\n"
          ]
        }
      ]
    },
    {
      "cell_type": "code",
      "source": [
        "spark.sql(\"\"\"select Country,InvoiceNo,sum(Quantity) as Total_Quantity,\n",
        "sum(Quantity * UnitPrice) as InvoiceValue from Sales group by Country,InvoiceNo\"\"\").show()"
      ],
      "metadata": {
        "colab": {
          "base_uri": "https://localhost:8080/"
        },
        "id": "50DOUUg4EH0h",
        "outputId": "16b16ad9-f2ca-44a0-885e-befd9e33e1a4"
      },
      "execution_count": 54,
      "outputs": [
        {
          "output_type": "stream",
          "name": "stdout",
          "text": [
            "+--------------+---------+--------------+------------------+\n",
            "|       Country|InvoiceNo|Total_Quantity|      InvoiceValue|\n",
            "+--------------+---------+--------------+------------------+\n",
            "|United Kingdom|   536446|           329|            440.89|\n",
            "|United Kingdom|   536508|           216|            155.52|\n",
            "|United Kingdom|   537811|            74|            268.86|\n",
            "|United Kingdom|   538895|           370|            247.38|\n",
            "|United Kingdom|   540453|           341|302.44999999999993|\n",
            "|United Kingdom|   541291|           217|305.81000000000006|\n",
            "|United Kingdom|   542551|            -1|               0.0|\n",
            "|United Kingdom|   542576|            -1|               0.0|\n",
            "|United Kingdom|   542628|             9|            132.35|\n",
            "|United Kingdom|   542886|           199| 320.5099999999998|\n",
            "|United Kingdom|   542907|            75|            313.85|\n",
            "|United Kingdom|   543131|           134|             164.1|\n",
            "|United Kingdom|   543189|           102|            153.94|\n",
            "|United Kingdom|   543265|            -4|               0.0|\n",
            "|        Cyprus|   544574|           173|            320.69|\n",
            "|United Kingdom|   545077|            24|             10.08|\n",
            "|United Kingdom|   545300|           116|            323.16|\n",
            "|United Kingdom|   545347|            72| 76.32000000000001|\n",
            "|United Kingdom|   545418|            10|              85.0|\n",
            "|United Kingdom|   545897|           577|1762.2200000000018|\n",
            "+--------------+---------+--------------+------------------+\n",
            "only showing top 20 rows\n",
            "\n"
          ]
        }
      ]
    },
    {
      "cell_type": "code",
      "source": [],
      "metadata": {
        "id": "XgcHhmwvHe1Q"
      },
      "execution_count": null,
      "outputs": []
    }
  ]
}