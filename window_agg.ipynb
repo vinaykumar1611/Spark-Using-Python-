{
  "nbformat": 4,
  "nbformat_minor": 0,
  "metadata": {
    "colab": {
      "provenance": []
    },
    "kernelspec": {
      "name": "python3",
      "display_name": "Python 3"
    },
    "language_info": {
      "name": "python"
    }
  },
  "cells": [
    {
      "cell_type": "code",
      "execution_count": null,
      "metadata": {
        "colab": {
          "base_uri": "https://localhost:8080/"
        },
        "id": "BfLHVb0PmZk4",
        "outputId": "4c80e6f2-e679-4972-8f1c-717985df90f5"
      },
      "outputs": [
        {
          "output_type": "stream",
          "name": "stdout",
          "text": [
            "Looking in indexes: https://pypi.org/simple, https://us-python.pkg.dev/colab-wheels/public/simple/\n",
            "Collecting pyspark\n",
            "  Downloading pyspark-3.3.2.tar.gz (281.4 MB)\n",
            "\u001b[2K     \u001b[90m━━━━━━━━━━━━━━━━━━━━━━━━━━━━━━━━━━━━━━━\u001b[0m \u001b[32m281.4/281.4 MB\u001b[0m \u001b[31m3.9 MB/s\u001b[0m eta \u001b[36m0:00:00\u001b[0m\n",
            "\u001b[?25h  Preparing metadata (setup.py) ... \u001b[?25l\u001b[?25hdone\n",
            "Collecting py4j==0.10.9.5\n",
            "  Downloading py4j-0.10.9.5-py2.py3-none-any.whl (199 kB)\n",
            "\u001b[2K     \u001b[90m━━━━━━━━━━━━━━━━━━━━━━━━━━━━━━━━━━━━━━━\u001b[0m \u001b[32m199.7/199.7 KB\u001b[0m \u001b[31m9.9 MB/s\u001b[0m eta \u001b[36m0:00:00\u001b[0m\n",
            "\u001b[?25hBuilding wheels for collected packages: pyspark\n",
            "  Building wheel for pyspark (setup.py) ... \u001b[?25l\u001b[?25hdone\n",
            "  Created wheel for pyspark: filename=pyspark-3.3.2-py2.py3-none-any.whl size=281824025 sha256=2c6abe9e0953689941f29d95876ac686d9a1c76a002b3e4bf2567affcd5951f4\n",
            "  Stored in directory: /root/.cache/pip/wheels/b1/59/a0/a1a0624b5e865fd389919c1a10f53aec9b12195d6747710baf\n",
            "Successfully built pyspark\n",
            "Installing collected packages: py4j, pyspark\n",
            "Successfully installed py4j-0.10.9.5 pyspark-3.3.2\n"
          ]
        }
      ],
      "source": [
        "!pip install -q findspark\n",
        "!pip install pyspark"
      ]
    },
    {
      "cell_type": "code",
      "source": [
        "from pyspark.sql import SparkSession, window\n",
        "from pyspark import SparkConf\n",
        "from pyspark.sql.functions import *"
      ],
      "metadata": {
        "id": "MmrKyZ6omlDL"
      },
      "execution_count": null,
      "outputs": []
    },
    {
      "cell_type": "code",
      "source": [
        "my_conf = SparkConf()"
      ],
      "metadata": {
        "id": "FUWhteKKnBE5"
      },
      "execution_count": null,
      "outputs": []
    },
    {
      "cell_type": "code",
      "source": [
        "my_conf.set(\"Saprk.App.Name\",\"Window_aggregration\")\n",
        "my_conf.set(\"spark.master\",\"local[*]\")"
      ],
      "metadata": {
        "colab": {
          "base_uri": "https://localhost:8080/"
        },
        "id": "rAd2-ROBnFeH",
        "outputId": "e353e49e-7839-4705-c63f-cc6f38a33b96"
      },
      "execution_count": null,
      "outputs": [
        {
          "output_type": "execute_result",
          "data": {
            "text/plain": [
              "<pyspark.conf.SparkConf at 0x7f4369021c40>"
            ]
          },
          "metadata": {},
          "execution_count": 4
        }
      ]
    },
    {
      "cell_type": "code",
      "source": [
        "spark = SparkSession.builder.config(conf=my_conf).getOrCreate()"
      ],
      "metadata": {
        "id": "umMu2TnfnklB"
      },
      "execution_count": null,
      "outputs": []
    },
    {
      "cell_type": "code",
      "source": [
        "inputDF = spark.read.format(\"csv\").option(\"path\",\"/content/windowdata.csv\").load()"
      ],
      "metadata": {
        "id": "Ipcu9opjnvZY"
      },
      "execution_count": null,
      "outputs": []
    },
    {
      "cell_type": "code",
      "source": [
        "inputDF.show()"
      ],
      "metadata": {
        "colab": {
          "base_uri": "https://localhost:8080/"
        },
        "id": "wdo0AkLkoigq",
        "outputId": "48519e19-52d7-499d-b9d8-88eebc21a330"
      },
      "execution_count": null,
      "outputs": [
        {
          "output_type": "stream",
          "name": "stdout",
          "text": [
            "+--------------+---+---+-----+---------+\n",
            "|           _c0|_c1|_c2|  _c3|      _c4|\n",
            "+--------------+---+---+-----+---------+\n",
            "|         Spain| 49|  1|   67|   174.72|\n",
            "|       Germany| 48| 11| 1795|  3309.75|\n",
            "|     Lithuania| 48|  3|  622|  1598.06|\n",
            "|       Germany| 49| 12| 1852|  4521.39|\n",
            "|       Bahrain| 51|  1|   54|   205.74|\n",
            "|       Iceland| 49|  1|  319|   711.79|\n",
            "|         India| 51|  5|   95|   276.84|\n",
            "|     Australia| 50|  2|  133|   387.95|\n",
            "|         Italy| 49|  1|   -2|    -17.0|\n",
            "|         India| 49|  5| 1280|   3284.1|\n",
            "|         Spain| 50|  2|  400|  1049.01|\n",
            "|United Kingdom| 51|200|28782| 75103.46|\n",
            "|        Norway| 49|  1| 1730|  1867.98|\n",
            "|United Kingdom| 48|478|68865|166116.72|\n",
            "|        France| 51|  5|  847|  1702.87|\n",
            "|      Portugal| 49|  4|  726|  1844.67|\n",
            "|         Spain| 48|  1|  400|    620.0|\n",
            "|         India| 48|  7| 2822|  3147.23|\n",
            "|       Germany| 50| 15| 1973|  5065.79|\n",
            "|         Italy| 51|  1|  131|    383.7|\n",
            "+--------------+---+---+-----+---------+\n",
            "only showing top 20 rows\n",
            "\n"
          ]
        }
      ]
    },
    {
      "cell_type": "code",
      "source": [
        "inputDF2 = inputDF.toDF(\"country\",\"weeknum\",\"num_of_invoices\",\"total_quantity\",\"invoice_number\")"
      ],
      "metadata": {
        "id": "2Lg_Lw4cooc_"
      },
      "execution_count": null,
      "outputs": []
    },
    {
      "cell_type": "code",
      "source": [
        "inputDF2.show()"
      ],
      "metadata": {
        "colab": {
          "base_uri": "https://localhost:8080/"
        },
        "id": "j0Nhnh4wqWBG",
        "outputId": "106413f6-cf55-46ae-a18c-771b232b19e7"
      },
      "execution_count": null,
      "outputs": [
        {
          "output_type": "stream",
          "name": "stdout",
          "text": [
            "+--------------+-------+---------------+--------------+--------------+\n",
            "|       country|weeknum|num_of_invoices|total_quantity|invoice_number|\n",
            "+--------------+-------+---------------+--------------+--------------+\n",
            "|         Spain|     49|              1|            67|        174.72|\n",
            "|       Germany|     48|             11|          1795|       3309.75|\n",
            "|     Lithuania|     48|              3|           622|       1598.06|\n",
            "|       Germany|     49|             12|          1852|       4521.39|\n",
            "|       Bahrain|     51|              1|            54|        205.74|\n",
            "|       Iceland|     49|              1|           319|        711.79|\n",
            "|         India|     51|              5|            95|        276.84|\n",
            "|     Australia|     50|              2|           133|        387.95|\n",
            "|         Italy|     49|              1|            -2|         -17.0|\n",
            "|         India|     49|              5|          1280|        3284.1|\n",
            "|         Spain|     50|              2|           400|       1049.01|\n",
            "|United Kingdom|     51|            200|         28782|      75103.46|\n",
            "|        Norway|     49|              1|          1730|       1867.98|\n",
            "|United Kingdom|     48|            478|         68865|     166116.72|\n",
            "|        France|     51|              5|           847|       1702.87|\n",
            "|      Portugal|     49|              4|           726|       1844.67|\n",
            "|         Spain|     48|              1|           400|         620.0|\n",
            "|         India|     48|              7|          2822|       3147.23|\n",
            "|       Germany|     50|             15|          1973|       5065.79|\n",
            "|         Italy|     51|              1|           131|         383.7|\n",
            "+--------------+-------+---------------+--------------+--------------+\n",
            "only showing top 20 rows\n",
            "\n"
          ]
        }
      ]
    },
    {
      "cell_type": "code",
      "source": [
        "from pyspark.sql import Window"
      ],
      "metadata": {
        "id": "tEaents8qYsP"
      },
      "execution_count": null,
      "outputs": []
    },
    {
      "cell_type": "code",
      "source": [
        "# Creating a Window for finding the running total of the each country and ordering by weeknum\n",
        "my_window = Window.partitionBy(\"country\").orderBy(\"weeknum\").rowsBetween(Window.unboundedPreceding,Window.currentRow)"
      ],
      "metadata": {
        "id": "SIfFfP8qroSv"
      },
      "execution_count": null,
      "outputs": []
    },
    {
      "cell_type": "code",
      "source": [
        "# Running Total is new column so created a new column using withcolumn and passing the window to that\n",
        "my_df_updated = inputDF2.withColumn(\"RunningTotal\",sum(\"invoice_number\").over(my_window))"
      ],
      "metadata": {
        "id": "-3TlKyNisKw9"
      },
      "execution_count": null,
      "outputs": []
    },
    {
      "cell_type": "code",
      "source": [
        "my_df_updated.show()"
      ],
      "metadata": {
        "colab": {
          "base_uri": "https://localhost:8080/"
        },
        "id": "OUT2GTu8s8se",
        "outputId": "15ff917a-1d45-4b42-c82e-b37456267bff"
      },
      "execution_count": null,
      "outputs": [
        {
          "output_type": "stream",
          "name": "stdout",
          "text": [
            "+---------------+-------+---------------+--------------+--------------+------------------+\n",
            "|        country|weeknum|num_of_invoices|total_quantity|invoice_number|      RunningTotal|\n",
            "+---------------+-------+---------------+--------------+--------------+------------------+\n",
            "|      Australia|     48|              1|           107|        358.25|            358.25|\n",
            "|      Australia|     49|              1|           214|         258.9|            617.15|\n",
            "|      Australia|     50|              2|           133|        387.95|1005.0999999999999|\n",
            "|        Austria|     50|              2|             3|        257.04|            257.04|\n",
            "|        Bahrain|     51|              1|            54|        205.74|            205.74|\n",
            "|        Belgium|     48|              1|           528|         346.1|             346.1|\n",
            "|        Belgium|     50|              2|           285|        625.16|            971.26|\n",
            "|        Belgium|     51|              2|           942|        838.65|1809.9099999999999|\n",
            "|Channel Islands|     49|              1|            80|        363.53|            363.53|\n",
            "|         Cyprus|     50|              1|           917|       1590.82|           1590.82|\n",
            "|        Denmark|     49|              1|           454|        1281.5|            1281.5|\n",
            "|        Finland|     50|              1|          1254|         892.8|             892.8|\n",
            "|         France|     48|              4|          1299|       2808.16|           2808.16|\n",
            "|         France|     49|              9|          2303|       4527.01|           7335.17|\n",
            "|         France|     50|              6|           529|        537.32|           7872.49|\n",
            "|         France|     51|              5|           847|       1702.87|           9575.36|\n",
            "|        Germany|     48|             11|          1795|       3309.75|           3309.75|\n",
            "|        Germany|     49|             12|          1852|       4521.39|           7831.14|\n",
            "|        Germany|     50|             15|          1973|       5065.79|          12896.93|\n",
            "|        Germany|     51|              5|          1103|       1665.91|          14562.84|\n",
            "+---------------+-------+---------------+--------------+--------------+------------------+\n",
            "only showing top 20 rows\n",
            "\n"
          ]
        }
      ]
    },
    {
      "cell_type": "code",
      "source": [
        "df1 = spark.read.csv(\"/content/customers.csv\",header=True,inferSchema=True)"
      ],
      "metadata": {
        "id": "wCxQ06ueuiUV"
      },
      "execution_count": null,
      "outputs": []
    },
    {
      "cell_type": "code",
      "source": [
        "# Storing the file in the json format\n",
        "df1.write.format('json').option(\"path\",\"/content/customer\").save()"
      ],
      "metadata": {
        "id": "3rx7do7V0DjU"
      },
      "execution_count": null,
      "outputs": []
    },
    {
      "cell_type": "code",
      "source": [
        "df2 = spark.read.csv(\"/orders.csv\",header=True,inferSchema=True)"
      ],
      "metadata": {
        "id": "n85BytR20R2q"
      },
      "execution_count": null,
      "outputs": []
    },
    {
      "cell_type": "code",
      "source": [
        "df2.write.format(\"json\").option(\"path\",\"/content/orders\").save()"
      ],
      "metadata": {
        "id": "_AFsH4RZ1CmC"
      },
      "execution_count": null,
      "outputs": []
    },
    {
      "cell_type": "code",
      "source": [
        "#loading the json files\n",
        "ordersDF = spark.read.format(\"json\").option(\"path\",\"/part-00000-78f4173b-81d2-4d0f-b06b-555cef289bd7-c000.json\").load()"
      ],
      "metadata": {
        "id": "aOtGLKR41aOq"
      },
      "execution_count": null,
      "outputs": []
    },
    {
      "cell_type": "code",
      "source": [
        "customerDF = spark.read.format(\"json\").option(\"path\",\"/part-00000-9d2c7dd5-15e6-4a04-afce-d3f0368ef30e-c000.json\").load()"
      ],
      "metadata": {
        "id": "StLrJ_Gg26NJ"
      },
      "execution_count": null,
      "outputs": []
    },
    {
      "cell_type": "code",
      "source": [
        "ordersDF.show()"
      ],
      "metadata": {
        "colab": {
          "base_uri": "https://localhost:8080/"
        },
        "id": "GH7c86KI3C5B",
        "outputId": "ab5203b2-b05a-47b1-91bc-ac0eacf6017b"
      },
      "execution_count": null,
      "outputs": [
        {
          "output_type": "stream",
          "name": "stdout",
          "text": [
            "+-----------------+----------+--------+---------------+\n",
            "|order_customer_id|order_date|order_id|   order_status|\n",
            "+-----------------+----------+--------+---------------+\n",
            "|            11599|   00:00.0|       1|         CLOSED|\n",
            "|              256|   00:00.0|       2|PENDING_PAYMENT|\n",
            "|            12111|   00:00.0|       3|       COMPLETE|\n",
            "|             8827|   00:00.0|       4|         CLOSED|\n",
            "|            11318|   00:00.0|       5|       COMPLETE|\n",
            "|             7130|   00:00.0|       6|       COMPLETE|\n",
            "|             4530|   00:00.0|       7|       COMPLETE|\n",
            "|             2911|   00:00.0|       8|     PROCESSING|\n",
            "|             5657|   00:00.0|       9|PENDING_PAYMENT|\n",
            "|             5648|   00:00.0|      10|PENDING_PAYMENT|\n",
            "|              918|   00:00.0|      11| PAYMENT_REVIEW|\n",
            "|             1837|   00:00.0|      12|         CLOSED|\n",
            "|             9149|   00:00.0|      13|PENDING_PAYMENT|\n",
            "|             9842|   00:00.0|      14|     PROCESSING|\n",
            "|             2568|   00:00.0|      15|       COMPLETE|\n",
            "|             7276|   00:00.0|      16|PENDING_PAYMENT|\n",
            "|             2667|   00:00.0|      17|       COMPLETE|\n",
            "|             1205|   00:00.0|      18|         CLOSED|\n",
            "|             9488|   00:00.0|      19|PENDING_PAYMENT|\n",
            "|             9198|   00:00.0|      20|     PROCESSING|\n",
            "+-----------------+----------+--------+---------------+\n",
            "only showing top 20 rows\n",
            "\n"
          ]
        }
      ]
    },
    {
      "cell_type": "code",
      "source": [
        "customerDF.show()"
      ],
      "metadata": {
        "colab": {
          "base_uri": "https://localhost:8080/"
        },
        "id": "QqtGMCUw3GWh",
        "outputId": "ca8476f9-6397-4ebd-d9c8-1042ca06c0dc"
      },
      "execution_count": null,
      "outputs": [
        {
          "output_type": "stream",
          "name": "stdout",
          "text": [
            "+-------------+--------------+--------------+-----------+--------------+-----------------+--------------+--------------------+----------------+\n",
            "|customer_city|customer_email|customer_fname|customer_id|customer_lname|customer_password|customer_state|     customer_street|customer_zipcode|\n",
            "+-------------+--------------+--------------+-----------+--------------+-----------------+--------------+--------------------+----------------+\n",
            "|  Brownsville|     XXXXXXXXX|       Richard|          1|     Hernandez|        XXXXXXXXX|            TX|  6303 Heather Plaza|           78521|\n",
            "|    Littleton|     XXXXXXXXX|          Mary|          2|       Barrett|        XXXXXXXXX|            CO|9526 Noble Embers...|           80126|\n",
            "|       Caguas|     XXXXXXXXX|           Ann|          3|         Smith|        XXXXXXXXX|            PR|3422 Blue Pioneer...|             725|\n",
            "|   San Marcos|     XXXXXXXXX|          Mary|          4|         Jones|        XXXXXXXXX|            CA|  8324 Little Common|           92069|\n",
            "|       Caguas|     XXXXXXXXX|        Robert|          5|        Hudson|        XXXXXXXXX|            PR|10 Crystal River ...|             725|\n",
            "|      Passaic|     XXXXXXXXX|          Mary|          6|         Smith|        XXXXXXXXX|            NJ|3151 Sleepy Quail...|            7055|\n",
            "|       Caguas|     XXXXXXXXX|       Melissa|          7|        Wilcox|        XXXXXXXXX|            PR|9453 High Concession|             725|\n",
            "|     Lawrence|     XXXXXXXXX|         Megan|          8|         Smith|        XXXXXXXXX|            MA|3047 Foggy Forest...|            1841|\n",
            "|       Caguas|     XXXXXXXXX|          Mary|          9|         Perez|        XXXXXXXXX|            PR| 3616 Quaking Street|             725|\n",
            "|     Stafford|     XXXXXXXXX|       Melissa|         10|         Smith|        XXXXXXXXX|            VA|8598 Harvest Beac...|           22554|\n",
            "|       Caguas|     XXXXXXXXX|          Mary|         11|       Huffman|        XXXXXXXXX|            PR|    3169 Stony Woods|             725|\n",
            "|  San Antonio|     XXXXXXXXX|   Christopher|         12|         Smith|        XXXXXXXXX|            TX|5594 Jagged Ember...|           78227|\n",
            "|       Caguas|     XXXXXXXXX|          Mary|         13|       Baldwin|        XXXXXXXXX|            PR|7922 Iron Oak Gar...|             725|\n",
            "|  Pico Rivera|     XXXXXXXXX|     Katherine|         14|         Smith|        XXXXXXXXX|            CA|5666 Hazy Pony Sq...|           90660|\n",
            "|      Fontana|     XXXXXXXXX|          Jane|         15|          Luna|        XXXXXXXXX|            CA|    673 Burning Glen|           92336|\n",
            "|       Caguas|     XXXXXXXXX|       Tiffany|         16|         Smith|        XXXXXXXXX|            PR|      6651 Iron Port|             725|\n",
            "|       Taylor|     XXXXXXXXX|          Mary|         17|      Robinson|        XXXXXXXXX|            MI|     1325 Noble Pike|           48180|\n",
            "|     Martinez|     XXXXXXXXX|        Robert|         18|         Smith|        XXXXXXXXX|            CA|2734 Hazy Butterf...|           94553|\n",
            "|       Caguas|     XXXXXXXXX|     Stephanie|         19|      Mitchell|        XXXXXXXXX|            PR|3543 Red Treasure...|             725|\n",
            "|West New York|     XXXXXXXXX|          Mary|         20|         Ellis|        XXXXXXXXX|            NJ|      4703 Old Route|            7093|\n",
            "+-------------+--------------+--------------+-----------+--------------+-----------------+--------------+--------------------+----------------+\n",
            "only showing top 20 rows\n",
            "\n"
          ]
        }
      ]
    },
    {
      "cell_type": "code",
      "source": [
        "JoinedDF = ordersDF.join(customerDF,ordersDF.order_customer_id == customerDF.customer_id, \"inner\")"
      ],
      "metadata": {
        "id": "acEFkBNr3JEQ"
      },
      "execution_count": null,
      "outputs": []
    },
    {
      "cell_type": "code",
      "source": [
        "JoinedDF.show()"
      ],
      "metadata": {
        "colab": {
          "base_uri": "https://localhost:8080/"
        },
        "id": "nu-X0zrI5q_Y",
        "outputId": "f90b87b1-0424-4059-916e-5cb4f6f29c55"
      },
      "execution_count": null,
      "outputs": [
        {
          "output_type": "stream",
          "name": "stdout",
          "text": [
            "+-----------------+----------+--------+---------------+-------------+--------------+--------------+-----------+--------------+-----------------+--------------+--------------------+----------------+\n",
            "|order_customer_id|order_date|order_id|   order_status|customer_city|customer_email|customer_fname|customer_id|customer_lname|customer_password|customer_state|     customer_street|customer_zipcode|\n",
            "+-----------------+----------+--------+---------------+-------------+--------------+--------------+-----------+--------------+-----------------+--------------+--------------------+----------------+\n",
            "|            11599|   00:00.0|       1|         CLOSED|      Hickory|     XXXXXXXXX|          Mary|      11599|        Malone|        XXXXXXXXX|            NC|8708 Indian Horse...|           28601|\n",
            "|              256|   00:00.0|       2|PENDING_PAYMENT|      Chicago|     XXXXXXXXX|         David|        256|     Rodriguez|        XXXXXXXXX|            IL|7605 Tawny Horse ...|           60625|\n",
            "|            12111|   00:00.0|       3|       COMPLETE|   Santa Cruz|     XXXXXXXXX|         Amber|      12111|        Franco|        XXXXXXXXX|            CA|8766 Clear Prairi...|           95060|\n",
            "|             8827|   00:00.0|       4|         CLOSED|  San Antonio|     XXXXXXXXX|         Brian|       8827|        Wilson|        XXXXXXXXX|            TX|   8396 High Corners|           78240|\n",
            "|            11318|   00:00.0|       5|       COMPLETE|       Caguas|     XXXXXXXXX|          Mary|      11318|         Henry|        XXXXXXXXX|            PR|3047 Silent Ember...|             725|\n",
            "|             7130|   00:00.0|       6|       COMPLETE|     Brooklyn|     XXXXXXXXX|         Alice|       7130|         Smith|        XXXXXXXXX|            NY|      8852 Iron Port|           11237|\n",
            "|             4530|   00:00.0|       7|       COMPLETE|        Miami|     XXXXXXXXX|          Mary|       4530|         Smith|        XXXXXXXXX|            FL|1073 Green Leaf G...|           33161|\n",
            "|             2911|   00:00.0|       8|     PROCESSING|       Caguas|     XXXXXXXXX|          Mary|       2911|         Smith|        XXXXXXXXX|            PR|9166 Golden Necta...|             725|\n",
            "|             5657|   00:00.0|       9|PENDING_PAYMENT|     Lakewood|     XXXXXXXXX|          Mary|       5657|         James|        XXXXXXXXX|            OH|  1389 Dusty Circuit|           44107|\n",
            "|             5648|   00:00.0|      10|PENDING_PAYMENT|      Memphis|     XXXXXXXXX|        Joshua|       5648|         Smith|        XXXXXXXXX|            TN|864 Iron Spring S...|           38111|\n",
            "|              918|   00:00.0|      11| PAYMENT_REVIEW|       Caguas|     XXXXXXXXX|        Nathan|        918|         Smith|        XXXXXXXXX|            PR|    9627 Honey Trail|             725|\n",
            "|             1837|   00:00.0|      12|         CLOSED|       Caguas|     XXXXXXXXX|          Mary|       1837|          Vega|        XXXXXXXXX|            PR|  4312 Bright Corner|             725|\n",
            "|             9149|   00:00.0|      13|PENDING_PAYMENT|    Santa Ana|     XXXXXXXXX|        Ronald|       9149|     Whitehead|        XXXXXXXXX|            CA|6789 Round Robin ...|           92705|\n",
            "|             9842|   00:00.0|      14|     PROCESSING|       Caguas|     XXXXXXXXX|          Mary|       9842|         Smith|        XXXXXXXXX|            PR|454 Lazy Branch F...|             725|\n",
            "|             2568|   00:00.0|      15|       COMPLETE|      Memphis|     XXXXXXXXX|         Maria|       2568|         Smith|        XXXXXXXXX|            TN|   3544 Fallen Mount|           38127|\n",
            "|             7276|   00:00.0|      16|PENDING_PAYMENT|       Caguas|     XXXXXXXXX|        Pamela|       7276|         Smith|        XXXXXXXXX|            PR|    9243 Old Gardens|             725|\n",
            "|             2667|   00:00.0|      17|       COMPLETE|   Sun Valley|     XXXXXXXXX|         Tammy|       2667|         Smith|        XXXXXXXXX|            CA|   8906 Rustic Mall |           91352|\n",
            "|             1205|   00:00.0|      18|         CLOSED|        Miami|     XXXXXXXXX|          Mary|       1205|        Powell|        XXXXXXXXX|            FL|9299 Quiet Pionee...|           33126|\n",
            "|             9488|   00:00.0|      19|PENDING_PAYMENT|      Hialeah|     XXXXXXXXX|          Mary|       9488|         Smith|        XXXXXXXXX|            FL|    9758 Foggy Range|           33012|\n",
            "|             9198|   00:00.0|      20|     PROCESSING|Bowling Green|     XXXXXXXXX|         David|       9198|          Kerr|        XXXXXXXXX|            KY|7312 Crystal Will...|           42101|\n",
            "+-----------------+----------+--------+---------------+-------------+--------------+--------------+-----------+--------------+-----------------+--------------+--------------------+----------------+\n",
            "only showing top 20 rows\n",
            "\n"
          ]
        }
      ]
    },
    {
      "cell_type": "code",
      "source": [
        "\n",
        "my_join = ordersDF.order_customer_id == customerDF.customer_id\n",
        "\n",
        "my_join_type = \"right\""
      ],
      "metadata": {
        "id": "a4gey83x6FMH"
      },
      "execution_count": null,
      "outputs": []
    },
    {
      "cell_type": "code",
      "source": [
        "# Cutomer who never placed any orders\n",
        "No_order_customerDF = ordersDF.join(customerDF, my_join, my_join_type).sort(\"order_customer_id\")"
      ],
      "metadata": {
        "id": "l9X3bDQl6okd"
      },
      "execution_count": null,
      "outputs": []
    },
    {
      "cell_type": "code",
      "source": [
        "No_order_customerDF.show()"
      ],
      "metadata": {
        "colab": {
          "base_uri": "https://localhost:8080/"
        },
        "id": "rxUYOYVr7OT5",
        "outputId": "fa9dcebe-9fb0-4c9c-da2c-c0fa6d955822"
      },
      "execution_count": null,
      "outputs": [
        {
          "output_type": "stream",
          "name": "stdout",
          "text": [
            "+-----------------+----------+--------+------------+-------------------+--------------+--------------+-----------+--------------+-----------------+--------------+--------------------+----------------+\n",
            "|order_customer_id|order_date|order_id|order_status|      customer_city|customer_email|customer_fname|customer_id|customer_lname|customer_password|customer_state|     customer_street|customer_zipcode|\n",
            "+-----------------+----------+--------+------------+-------------------+--------------+--------------+-----------+--------------+-----------------+--------------+--------------------+----------------+\n",
            "|             null|      null|    null|        null|             Denver|     XXXXXXXXX|          Mary|        219|       Harrell|        XXXXXXXXX|            CO|9016 Foggy Robin ...|           80219|\n",
            "|             null|      null|    null|        null|          Henderson|     XXXXXXXXX|       Matthew|       9060|         Patel|        XXXXXXXXX|            NV|7190 Silver Horse...|           89014|\n",
            "|             null|      null|    null|        null|         Long Beach|     XXXXXXXXX|          Mary|        339|        Greene|        XXXXXXXXX|            CA|     4271 Hazy Close|           90805|\n",
            "|             null|      null|    null|        null|             Caguas|     XXXXXXXXX|       Carolyn|       4927|         Green|        XXXXXXXXX|            PR|7550 Sleepy View ...|             725|\n",
            "|             null|      null|    null|        null|             Malden|     XXXXXXXXX|       Stephen|       6072|         Smith|        XXXXXXXXX|            MA|849 Noble Apple P...|            2148|\n",
            "|             null|      null|    null|        null|        Brownsville|     XXXXXXXXX|       Richard|          1|     Hernandez|        XXXXXXXXX|            TX|  6303 Heather Plaza|           78521|\n",
            "|             null|      null|    null|        null|             Caguas|     XXXXXXXXX|        Ashley|       6613|         Smith|        XXXXXXXXX|            PR|9847 Dusty Horse ...|             725|\n",
            "|             null|      null|    null|        null|            Danbury|     XXXXXXXXX|       Dorothy|       1187|       Vazquez|        XXXXXXXXX|            CT| 363 Green Goose Run|            6810|\n",
            "|             null|      null|    null|        null|          Wyandotte|     XXXXXXXXX|         Kevin|       7011|         Smith|        XXXXXXXXX|            MI|1915 Thunder Hick...|           48192|\n",
            "|             null|      null|    null|        null|           Billings|     XXXXXXXXX|        Albert|       1808|       Ellison|        XXXXXXXXX|            MT|   9795 Heather Wynd|           59102|\n",
            "|             null|      null|    null|        null|             Howell|     XXXXXXXXX|          Carl|       7552|         Smith|        XXXXXXXXX|            MI|    9966 Cinder Loop|           48843|\n",
            "|             null|      null|    null|        null|              Bronx|     XXXXXXXXX|          Jose|       2096|        Tanner|        XXXXXXXXX|            NY|8976 Old Hickory ...|           10467|\n",
            "|             null|      null|    null|        null|           New York|     XXXXXXXXX|          Gary|       8243|        Walker|        XXXXXXXXX|            NY|2447 Stony Barn S...|           10128|\n",
            "|             null|      null|    null|        null|             Caguas|     XXXXXXXXX|          Mary|       4555|         Smith|        XXXXXXXXX|            PR|5455 Red Lagoon Maze|             725|\n",
            "|             null|      null|    null|        null|             Caguas|     XXXXXXXXX|          Mary|       8343|        Bolton|        XXXXXXXXX|            PR|   7302 Sunny Valley|             725|\n",
            "|             null|      null|    null|        null|South San Francisco|     XXXXXXXXX|         Randy|        469|         Smith|        XXXXXXXXX|            CA|252 Golden Goose ...|           94080|\n",
            "|             null|      null|    null|        null|             Caguas|     XXXXXXXXX|          Mary|       8575|       Mueller|        XXXXXXXXX|            PR|9714 Emerald Bear...|             725|\n",
            "|             null|      null|    null|        null|          Sunnyvale|     XXXXXXXXX|         Donna|       2073|      Stephens|        XXXXXXXXX|            CA|   9792 Cozy Corners|           94087|\n",
            "|             null|      null|    null|        null|             Caguas|     XXXXXXXXX|          Mary|       8778|         Smith|        XXXXXXXXX|            PR|4015 Tawny Rise C...|             725|\n",
            "|             null|      null|    null|        null|            Hickory|     XXXXXXXXX|       Kenneth|       8882|         Smith|        XXXXXXXXX|            NC| 6754 Iron Leaf Line|           28601|\n",
            "+-----------------+----------+--------+------------+-------------------+--------------+--------------+-----------+--------------+-----------------+--------------+--------------------+----------------+\n",
            "only showing top 20 rows\n",
            "\n"
          ]
        }
      ]
    },
    {
      "cell_type": "code",
      "source": [
        "DuplicateDF = spark.read.format(\"csv\").option(\"header\",True).option(\"inferschema\",True).option(\"path\",\"/content/orders.csv\").load()"
      ],
      "metadata": {
        "id": "_r85iRj17n82"
      },
      "execution_count": null,
      "outputs": []
    },
    {
      "cell_type": "code",
      "source": [
        "DuplicateDF.show()\n",
        "DuplicateDF.printSchema()"
      ],
      "metadata": {
        "colab": {
          "base_uri": "https://localhost:8080/"
        },
        "id": "qP5vuJ8XsltV",
        "outputId": "c73c302a-dea5-478e-af46-f69babcc7b92"
      },
      "execution_count": null,
      "outputs": [
        {
          "output_type": "stream",
          "name": "stdout",
          "text": [
            "+---------+----------+---------+---------------+\n",
            "|order_id0|order_date|order_id2|   order_status|\n",
            "+---------+----------+---------+---------------+\n",
            "|        1|   00:00.0|    11599|         CLOSED|\n",
            "|        2|   00:00.0|      256|PENDING_PAYMENT|\n",
            "|        3|   00:00.0|    12111|       COMPLETE|\n",
            "|        4|   00:00.0|     8827|         CLOSED|\n",
            "|        5|   00:00.0|    11318|       COMPLETE|\n",
            "|        6|   00:00.0|     7130|       COMPLETE|\n",
            "|        7|   00:00.0|     4530|       COMPLETE|\n",
            "|        8|   00:00.0|     2911|     PROCESSING|\n",
            "|        9|   00:00.0|     5657|PENDING_PAYMENT|\n",
            "|       10|   00:00.0|     5648|PENDING_PAYMENT|\n",
            "|       11|   00:00.0|      918| PAYMENT_REVIEW|\n",
            "|       12|   00:00.0|     1837|         CLOSED|\n",
            "|       13|   00:00.0|     9149|PENDING_PAYMENT|\n",
            "|       14|   00:00.0|     9842|     PROCESSING|\n",
            "|       15|   00:00.0|     2568|       COMPLETE|\n",
            "|       16|   00:00.0|     7276|PENDING_PAYMENT|\n",
            "|       17|   00:00.0|     2667|       COMPLETE|\n",
            "|       18|   00:00.0|     1205|         CLOSED|\n",
            "|       19|   00:00.0|     9488|PENDING_PAYMENT|\n",
            "|       20|   00:00.0|     9198|     PROCESSING|\n",
            "+---------+----------+---------+---------------+\n",
            "only showing top 20 rows\n",
            "\n",
            "root\n",
            " |-- order_id0: integer (nullable = true)\n",
            " |-- order_date: string (nullable = true)\n",
            " |-- order_id2: integer (nullable = true)\n",
            " |-- order_status: string (nullable = true)\n",
            "\n"
          ]
        }
      ]
    },
    {
      "cell_type": "code",
      "source": [
        "DuplicateDF.write.format(\"json\").mode(\"overwrite\").option(\"path\",\"/content/orders\").save()"
      ],
      "metadata": {
        "id": "sxhimYa0srC0"
      },
      "execution_count": null,
      "outputs": []
    },
    {
      "cell_type": "code",
      "source": [
        "#when we have duplicate columns while loading we could use the above code to make it as casesensitive\n",
        "spark.conf.set(\"spark.sql.caseSensitive\",\"true\")"
      ],
      "metadata": {
        "id": "ZIjvR7lt4F_x"
      },
      "execution_count": null,
      "outputs": []
    },
    {
      "cell_type": "code",
      "source": [
        "sample_DF = spark.read.json(\"/insightslogsPipelineruns.json\")"
      ],
      "metadata": {
        "id": "V0BC65KIt3-1"
      },
      "execution_count": null,
      "outputs": []
    },
    {
      "cell_type": "code",
      "source": [
        "sample_DF.show()"
      ],
      "metadata": {
        "colab": {
          "base_uri": "https://localhost:8080/"
        },
        "id": "CHPQgxNs32TB",
        "outputId": "f4bff7eb-9f79-45e4-dfaf-b8f30e04567f"
      },
      "execution_count": null,
      "outputs": [
        {
          "output_type": "stream",
          "name": "stdout",
          "text": [
            "+-----+------------+--------------------+--------------------+--------------------+-------------+-----------+--------------------+--------------------+--------------------+--------------------+--------------------+--------------------+----------+--------------------+--------------------+\n",
            "|Level|    category|       correlationId|                 end|             groupId|        level|   location|       operationName|        pipelineName|          properties|          resourceId|               runId|               start|    status|                tags|                time|\n",
            "+-----+------------+--------------------+--------------------+--------------------+-------------+-----------+--------------------+--------------------+--------------------+--------------------+--------------------+--------------------+----------+--------------------+--------------------+\n",
            "|    4|PipelineRuns|f664e844-9b8d-4ef...|2023-02-16T18:01:...|f664e844-9b8d-4ef...|Informational|northeurope|pl_load_file - Su...|        pl_load_file|{[], , {WM POS - ...|/SUBSCRIPTIONS/23...|f664e844-9b8d-4ef...|2023-02-16T17:40:...| Succeeded|{\"CostCentre\":\"91...|2023-02-16T18:01:...|\n",
            "|    4|PipelineRuns|705d7ab1-61c4-4db...|1601-01-01T00:00:00Z|705d7ab1-61c4-4db...|Informational|northeurope|pl_AutoAttributio...|pl_AutoAttributio...|{[], null, {null,...|/SUBSCRIPTIONS/23...|705d7ab1-61c4-4db...|2023-02-16T18:00:...|    Queued|{\"CostCentre\":\"91...|2023-02-16T18:00:...|\n",
            "|    4|PipelineRuns|705d7ab1-61c4-4db...|1601-01-01T00:00:00Z|705d7ab1-61c4-4db...|Informational|northeurope|pl_AutoAttributio...|pl_AutoAttributio...|{[], , {null, nul...|/SUBSCRIPTIONS/23...|705d7ab1-61c4-4db...|2023-02-16T18:00:...|InProgress|{\"CostCentre\":\"91...|2023-02-16T18:00:...|\n",
            "|    4|PipelineRuns|e7debd59-71df-491...|2023-02-16T18:05:...|e7debd59-71df-491...|Informational|northeurope|pl_load_file - Su...|        pl_load_file|{[], , {WM Daily ...|/SUBSCRIPTIONS/23...|e7debd59-71df-491...|2023-02-16T17:22:...| Succeeded|{\"CostCentre\":\"91...|2023-02-16T18:05:...|\n",
            "|    4|PipelineRuns|705d7ab1-61c4-4db...|2023-02-16T18:11:...|705d7ab1-61c4-4db...|Informational|northeurope|pl_AutoAttributio...|pl_AutoAttributio...|{[], , {null, nul...|/SUBSCRIPTIONS/23...|705d7ab1-61c4-4db...|2023-02-16T18:00:...| Succeeded|{\"CostCentre\":\"91...|2023-02-16T18:11:...|\n",
            "+-----+------------+--------------------+--------------------+--------------------+-------------+-----------+--------------------+--------------------+--------------------+--------------------+--------------------+--------------------+----------+--------------------+--------------------+\n",
            "\n"
          ]
        }
      ]
    },
    {
      "cell_type": "code",
      "source": [],
      "metadata": {
        "id": "VDeGOm7g4R6a"
      },
      "execution_count": null,
      "outputs": []
    }
  ]
}